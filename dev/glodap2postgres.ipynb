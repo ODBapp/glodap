{
 "cells": [
  {
   "cell_type": "code",
   "execution_count": 7,
   "metadata": {},
   "outputs": [],
   "source": [
    "import pandas as pd\n",
    "import numpy as np\n",
    "import sqlalchemy\n",
    "from sqlalchemy import create_engine\n",
    "from dotenv import load_dotenv\n",
    "from urllib.parse import quote \n",
    "import os"
   ]
  },
  {
   "cell_type": "code",
   "execution_count": 5,
   "metadata": {},
   "outputs": [],
   "source": [
    "load_dotenv()\n",
    "DBUSER = os.getenv('DBUSER')\n",
    "DBPASS = os.getenv('DBPASS')\n",
    "DBHOST = os.getenv('DBHOST')\n",
    "DBPORT = os.getenv('DBPORT')\n",
    "DBNAME = os.getenv('DBNAME')\n",
    "\n",
    "# db_settings = {\n",
    "#    'dbname': DBNAME,\n",
    "#    'user': DBUSER,\n",
    "#    'password': DBPASS,\n",
    "#    'host': DBHOST,\n",
    "#    'port': DBPORT,\n",
    "    #'options': \"-c statement_timeout=0\",\n",
    "    #'keepalives': 1,\n",
    "    #'keepalives_idle': 30,  # Number of seconds of inactivity after which a keepalive message is sent\n",
    "    #'keepalives_interval': 10,  # Number of seconds between keepalive messages when no response is received\n",
    "    #'keepalives_count': 5  # Number of attempts before concluding the connection is dead\n",
    "#}\n",
    "# Function to establish connection to PostgreSQL\n",
    "# def connect_db(settings):\n",
    "#    conn = psycopg2.connect(**settings)\n",
    "    # conn.set_isolation_level(ISOLATION_LEVEL_AUTOCOMMIT)\n",
    "#    return conn\n",
    "\n",
    "# connect_db(db_settings)"
   ]
  },
  {
   "cell_type": "code",
   "execution_count": 6,
   "metadata": {},
   "outputs": [],
   "source": [
    "PG_CONNECTION_STRING = 'postgresql://' + DBUSER + ':%s@' + DBHOST + ':' + DBPORT + '/' + DBNAME\n",
    "engine = create_engine(PG_CONNECTION_STRING % quote(DBPASS), echo=True)"
   ]
  },
  {
   "cell_type": "code",
   "execution_count": null,
   "metadata": {},
   "outputs": [],
   "source": [
    "data_dir = '../data_src/'\n",
    "data_file = 'GLODAPv2.2023_Indian_Ocean.csv'\n",
    "df = pd.read_csv(data_dir + data_file)\n",
    "# Remove G2 prefix\n",
    "df.columns = [col[2:] if col.startswith('G2') else col for col in df.columns]\n",
    "# Replace missing values\n",
    "df.replace(-9999, np.nan, inplace=True)\n"
   ]
  },
  {
   "cell_type": "code",
   "execution_count": 11,
   "metadata": {},
   "outputs": [
    {
     "name": "stdout",
     "output_type": "stream",
     "text": [
      "            expocode  cruise  station  region  cast    year  month   day  \\\n",
      "0       09AR19910925    65.0      8.0    16.0   1.0  1991.0   10.0   8.0   \n",
      "1       09AR19910925    65.0      8.0    16.0   1.0  1991.0   10.0   8.0   \n",
      "2       09AR19910925    65.0      8.0    16.0   1.0  1991.0   10.0   8.0   \n",
      "3       09AR19910925    65.0      8.0    16.0   1.0  1991.0   10.0   8.0   \n",
      "4       09AR19910925    65.0      8.0    16.0   1.0  1991.0   10.0   8.0   \n",
      "...              ...     ...      ...     ...   ...     ...    ...   ...   \n",
      "167743  49NZ20191205  4062.0     69.0    16.0   1.0  2019.0   12.0  22.0   \n",
      "167744  49NZ20191205  4062.0     69.0    16.0   1.0  2019.0   12.0  22.0   \n",
      "167745  49NZ20191205  4062.0     69.0    16.0   1.0  2019.0   12.0  22.0   \n",
      "167746  49NZ20191205  4062.0     69.0    16.0   1.0  2019.0   12.0  22.0   \n",
      "167747  49NZ20191205  4062.0     69.0    16.0   1.0  2019.0   12.0  22.0   \n",
      "\n",
      "        hour  minute  ...  tocf  doc  docf  don  donf  tdn  tdnf  chla  chlaf  \\\n",
      "0        0.0     0.0  ...   9.0  NaN   9.0  NaN   9.0  NaN   9.0   NaN    9.0   \n",
      "1        0.0     0.0  ...   9.0  NaN   9.0  NaN   9.0  NaN   9.0   NaN    9.0   \n",
      "2        0.0     0.0  ...   9.0  NaN   9.0  NaN   9.0  NaN   9.0   NaN    9.0   \n",
      "3        0.0     0.0  ...   9.0  NaN   9.0  NaN   9.0  NaN   9.0   NaN    9.0   \n",
      "4        0.0     0.0  ...   9.0  NaN   9.0  NaN   9.0  NaN   9.0   NaN    9.0   \n",
      "...      ...     ...  ...   ...  ...   ...  ...   ...  ...   ...   ...    ...   \n",
      "167743   4.0    17.0  ...   9.0  NaN   9.0  NaN   9.0  NaN   9.0   NaN    9.0   \n",
      "167744   4.0    17.0  ...   9.0  NaN   9.0  NaN   9.0  NaN   9.0   NaN    9.0   \n",
      "167745   4.0    17.0  ...   9.0  NaN   9.0  NaN   9.0  NaN   9.0   NaN    9.0   \n",
      "167746   4.0    17.0  ...   9.0  NaN   9.0  NaN   9.0  NaN   9.0   NaN    9.0   \n",
      "167747   4.0    17.0  ...   9.0  NaN   9.0  NaN   9.0  NaN   9.0   NaN    9.0   \n",
      "\n",
      "                                                      doi  \n",
      "0       https://doi.org/10.3334/cdiac/otg.pacifica_09a...  \n",
      "1       https://doi.org/10.3334/cdiac/otg.pacifica_09a...  \n",
      "2       https://doi.org/10.3334/cdiac/otg.pacifica_09a...  \n",
      "3       https://doi.org/10.3334/cdiac/otg.pacifica_09a...  \n",
      "4       https://doi.org/10.3334/cdiac/otg.pacifica_09a...  \n",
      "...                                                   ...  \n",
      "167743                 https://doi.org/10.25921/b03q-3n32  \n",
      "167744                 https://doi.org/10.25921/b03q-3n32  \n",
      "167745                 https://doi.org/10.25921/b03q-3n32  \n",
      "167746                 https://doi.org/10.25921/b03q-3n32  \n",
      "167747                 https://doi.org/10.25921/b03q-3n32  \n",
      "\n",
      "[167748 rows x 109 columns]\n"
     ]
    }
   ],
   "source": [
    "print(df)"
   ]
  },
  {
   "cell_type": "code",
   "execution_count": 12,
   "metadata": {},
   "outputs": [
    {
     "name": "stdout",
     "output_type": "stream",
     "text": [
      "['expocode', 'cruise', 'station', 'region', 'cast', 'year', 'month', 'day', 'hour', 'minute', 'latitude', 'longitude', 'bottomdepth', 'maxsampdepth', 'bottle', 'pressure', 'depth', 'temperature', 'theta', 'salinity', 'salinityf', 'salinityqc', 'sigma0', 'sigma1', 'sigma2', 'sigma3', 'sigma4', 'gamma', 'oxygen', 'oxygenf', 'oxygenqc', 'aou', 'aouf', 'nitrate', 'nitratef', 'nitrateqc', 'nitrite', 'nitritef', 'silicate', 'silicatef', 'silicateqc', 'phosphate', 'phosphatef', 'phosphateqc', 'tco2', 'tco2f', 'tco2qc', 'talk', 'talkf', 'talkqc', 'fco2', 'fco2f', 'fco2temp', 'phts25p0', 'phts25p0f', 'phtsinsitutp', 'phtsinsitutpf', 'phtsqc', 'cfc11', 'pcfc11', 'cfc11f', 'cfc11qc', 'cfc12', 'pcfc12', 'cfc12f', 'cfc12qc', 'cfc113', 'pcfc113', 'cfc113f', 'cfc113qc', 'ccl4', 'pccl4', 'ccl4f', 'ccl4qc', 'sf6', 'psf6', 'sf6f', 'sf6qc', 'c13', 'c13f', 'c13qc', 'c14', 'c14f', 'c14err', 'h3', 'h3f', 'h3err', 'he3', 'he3f', 'he3err', 'he', 'hef', 'heerr', 'neon', 'neonf', 'neonerr', 'o18', 'o18f', 'toc', 'tocf', 'doc', 'docf', 'don', 'donf', 'tdn', 'tdnf', 'chla', 'chlaf', 'doi']\n"
     ]
    }
   ],
   "source": [
    "print(df.columns.tolist())"
   ]
  },
  {
   "cell_type": "code",
   "execution_count": null,
   "metadata": {},
   "outputs": [],
   "source": [
    "    \n",
    "# Write to PostgreSQL\n",
    "# df.to_sql('glodap_observations', engine, if_exists='append', index=False)"
   ]
  }
 ],
 "metadata": {
  "kernelspec": {
   "display_name": "py312",
   "language": "python",
   "name": "python3"
  },
  "language_info": {
   "codemirror_mode": {
    "name": "ipython",
    "version": 3
   },
   "file_extension": ".py",
   "mimetype": "text/x-python",
   "name": "python",
   "nbconvert_exporter": "python",
   "pygments_lexer": "ipython3",
   "version": "3.12.5"
  }
 },
 "nbformat": 4,
 "nbformat_minor": 2
}
